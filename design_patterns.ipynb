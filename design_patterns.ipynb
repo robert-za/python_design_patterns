{
 "cells": [
  {
   "cell_type": "markdown",
   "id": "2f8de1f8",
   "metadata": {},
   "source": [
    "# Creational Patterns"
   ]
  },
  {
   "cell_type": "markdown",
   "id": "e81a6e30",
   "metadata": {},
   "source": [
    "## 1. Factory"
   ]
  },
  {
   "cell_type": "code",
   "execution_count": 4,
   "id": "df0c8fd1",
   "metadata": {},
   "outputs": [],
   "source": [
    "class Dog:\n",
    "    \"\"\"A simple dog class.\"\"\"\n",
    "\n",
    "    def __init__(self, name):\n",
    "        self._name = name\n",
    "\n",
    "    def speak(self):\n",
    "        return \"Woof!\""
   ]
  },
  {
   "cell_type": "code",
   "execution_count": 5,
   "id": "6c905320",
   "metadata": {},
   "outputs": [],
   "source": [
    "class Cat:\n",
    "    \"\"\"A simple cat class.\"\"\"\n",
    "\n",
    "    def __init__(self, name):\n",
    "        self._name = name\n",
    "\n",
    "    def speak(self):\n",
    "        return \"Meow!\""
   ]
  },
  {
   "cell_type": "code",
   "execution_count": 6,
   "id": "3e7b859d",
   "metadata": {},
   "outputs": [],
   "source": [
    "def get_pet(pet=\"Dog\"):\n",
    "    \"\"\"The Factory Method.\"\"\"\n",
    "    pets = dict(dog=Dog(\"Chili\"), cat=Cat(\"Peppers\"))\n",
    "    return pets[pet]"
   ]
  },
  {
   "cell_type": "markdown",
   "id": "15b22369",
   "metadata": {},
   "source": [
    "### Example:"
   ]
  },
  {
   "cell_type": "code",
   "execution_count": 14,
   "id": "33441741",
   "metadata": {},
   "outputs": [],
   "source": [
    "d = get_pet(\"dog\").speak()"
   ]
  },
  {
   "cell_type": "code",
   "execution_count": 21,
   "id": "c5265bfe",
   "metadata": {},
   "outputs": [
    {
     "data": {
      "text/plain": [
       "'Woof!'"
      ]
     },
     "execution_count": 21,
     "metadata": {},
     "output_type": "execute_result"
    }
   ],
   "source": [
    "d"
   ]
  },
  {
   "cell_type": "code",
   "execution_count": 16,
   "id": "44631d18",
   "metadata": {},
   "outputs": [],
   "source": [
    "c = get_pet(\"cat\").speak()"
   ]
  },
  {
   "cell_type": "code",
   "execution_count": 17,
   "id": "0ac96c2b",
   "metadata": {},
   "outputs": [
    {
     "data": {
      "text/plain": [
       "'Meow!'"
      ]
     },
     "execution_count": 17,
     "metadata": {},
     "output_type": "execute_result"
    }
   ],
   "source": [
    "c"
   ]
  },
  {
   "cell_type": "markdown",
   "id": "4471d8b4",
   "metadata": {},
   "source": [
    "## 2. Abstact Factory"
   ]
  },
  {
   "cell_type": "code",
   "execution_count": 43,
   "id": "a1d9dca6",
   "metadata": {},
   "outputs": [],
   "source": [
    "class Dog:\n",
    "    \"\"\"One of the objects to be returned.\"\"\"\n",
    "\n",
    "    def speak(self):\n",
    "        return \"Woof!\"\n",
    "\n",
    "    def __str__(self):\n",
    "        return \"Dog\"\n",
    "\n",
    "\n",
    "class DogFactory:\n",
    "    \"\"\"Concrete Factory\"\"\"\n",
    "\n",
    "    def get_pet(self):\n",
    "        \"\"\"Returns a Dog object.\"\"\"\n",
    "        return Dog()\n",
    "\n",
    "    def get_food(self):\n",
    "        \"\"\"Returns a DogFood object.\"\"\"\n",
    "        return \"DogFood\"\n",
    "\n",
    "    \n",
    "class PetStore:\n",
    "    \"\"\"PetStore houses our Abstract Factory.\"\"\"\n",
    "\n",
    "    def __init__(self, pet_factory=None):\n",
    "        \"\"\"pet_factory is our Abstract Factory.\"\"\"\n",
    "        self._pet_factory = pet_factory\n",
    "\n",
    "    def show_pet(self):\n",
    "        \"\"\"Utility method to display the details of the objects returned.\"\"\"\n",
    "        pet = self._pet_factory.get_pet()\n",
    "        pet_food = self._pet_factory.get_food()\n",
    "\n",
    "        print(f\"Our pet is {pet}!\")\n",
    "        print(f\"Our pet says hello by {pet.speak()}\")\n",
    "        print(f\"Its food is {pet_food}!\")"
   ]
  },
  {
   "cell_type": "markdown",
   "id": "c2c2040f",
   "metadata": {},
   "source": [
    "### Example:"
   ]
  },
  {
   "cell_type": "markdown",
   "id": "5727baa9",
   "metadata": {},
   "source": [
    "####    Create a Concrete Factory"
   ]
  },
  {
   "cell_type": "code",
   "execution_count": 44,
   "id": "77ffc31c",
   "metadata": {},
   "outputs": [],
   "source": [
    "factory = DogFactory()"
   ]
  },
  {
   "cell_type": "markdown",
   "id": "9bdf774c",
   "metadata": {},
   "source": [
    "#### Create a pet store housing our Abstract Factory"
   ]
  },
  {
   "cell_type": "code",
   "execution_count": 45,
   "id": "3c77a3ec",
   "metadata": {},
   "outputs": [],
   "source": [
    "shop = PetStore(factory)"
   ]
  },
  {
   "cell_type": "markdown",
   "id": "ad6ebc98",
   "metadata": {},
   "source": [
    "#### Invoke the utility method to show the details of our pet"
   ]
  },
  {
   "cell_type": "code",
   "execution_count": 46,
   "id": "bd1414cc",
   "metadata": {},
   "outputs": [
    {
     "name": "stdout",
     "output_type": "stream",
     "text": [
      "Our pet is Dog!\n",
      "Our pet says hello by Woof!\n",
      "Its food is DogFood!\n"
     ]
    }
   ],
   "source": [
    "shop.show_pet()"
   ]
  },
  {
   "cell_type": "code",
   "execution_count": 50,
   "id": "a442f34d",
   "metadata": {},
   "outputs": [
    {
     "name": "stdout",
     "output_type": "stream",
     "text": [
      "Our pet is Cat!\n",
      "Our pet says hello by Meow!\n",
      "Its food is CatFood!\n"
     ]
    }
   ],
   "source": [
    "# Now having the Abstract Factory, we can use it to produce Cats and CatFood\n",
    "class Cat:\n",
    "    \"\"\"One of the objects to be returned.\"\"\"\n",
    "\n",
    "    def speak(self):\n",
    "        return \"Meow!\"\n",
    "\n",
    "    def __str__(self):\n",
    "        return \"Cat\"\n",
    "\n",
    "\n",
    "class CatFactory:\n",
    "    \"\"\"Concrete Factory\"\"\"\n",
    "\n",
    "    def get_pet(self):\n",
    "        \"\"\"Returns a Cat object.\"\"\"\n",
    "        return Cat()\n",
    "\n",
    "    def get_food(self):\n",
    "        \"\"\"Returns a CatFood object.\"\"\"\n",
    "        return \"CatFood\"\n",
    "\n",
    "\n",
    "cat_factory = CatFactory()\n",
    "cat_shop = PetStore(cat_factory)\n",
    "cat_shop.show_pet()"
   ]
  },
  {
   "cell_type": "markdown",
   "id": "337b78c8",
   "metadata": {},
   "source": [
    "## 3. Singleton"
   ]
  },
  {
   "cell_type": "code",
   "execution_count": 56,
   "id": "9c95cab2",
   "metadata": {},
   "outputs": [],
   "source": [
    "class Borg:\n",
    "    \"\"\"The Borg design pattern.\"\"\"\n",
    "\n",
    "    _shared_data = {}  # Attribute dict\n",
    "\n",
    "    def __init__(self):\n",
    "        self.__dict__ = self._shared_data  # Make an attribute dict\n",
    "\n",
    "class Singleton(Borg):\n",
    "    \"\"\"The singleton class\"\"\"\n",
    "\n",
    "    def __init__(self, **kwargs):\n",
    "        Borg.__init__(self)\n",
    "        self._shared_data.update(kwargs)  # Update the attr dict by inserting a new k-v pair\n",
    "\n",
    "    def __str__(self):\n",
    "        return str(self._shared_data)  # Returns attr dict for printing"
   ]
  },
  {
   "cell_type": "markdown",
   "id": "6276a520",
   "metadata": {},
   "source": [
    "### Example:"
   ]
  },
  {
   "cell_type": "markdown",
   "id": "f52bd282",
   "metadata": {},
   "source": [
    "#### Let's create a singleton object and add our first acronym"
   ]
  },
  {
   "cell_type": "code",
   "execution_count": 68,
   "id": "7cce2e33",
   "metadata": {},
   "outputs": [],
   "source": [
    "x = Singleton(HTTP = \"Hyper Text Transfer Protocol\")"
   ]
  },
  {
   "cell_type": "markdown",
   "id": "a749a0b5",
   "metadata": {},
   "source": [
    "#### Print the object"
   ]
  },
  {
   "cell_type": "code",
   "execution_count": 71,
   "id": "0f3ae68e",
   "metadata": {},
   "outputs": [
    {
     "name": "stdout",
     "output_type": "stream",
     "text": [
      "{'HTTP': 'Hyper Text Transfer Protocol', 'WWW': 'World Wide Web'}\n"
     ]
    }
   ],
   "source": [
    "print(x)"
   ]
  },
  {
   "cell_type": "markdown",
   "id": "00712156",
   "metadata": {},
   "source": [
    "###### *This got updated while rerunning the cell, meaning singleton obj will be the same across the board"
   ]
  },
  {
   "cell_type": "markdown",
   "id": "a95b7ff4",
   "metadata": {},
   "source": [
    "#### Let's create another singleton object and if it refers to the same attribute dict by adding another acronym"
   ]
  },
  {
   "cell_type": "code",
   "execution_count": 76,
   "id": "f11b4475",
   "metadata": {},
   "outputs": [],
   "source": [
    "y = Singleton(WWW = \"World Wide Web\")"
   ]
  },
  {
   "cell_type": "markdown",
   "id": "ea3ea8c3",
   "metadata": {},
   "source": [
    "#### Print the object"
   ]
  },
  {
   "cell_type": "code",
   "execution_count": 77,
   "id": "f42e1ff7",
   "metadata": {},
   "outputs": [
    {
     "name": "stdout",
     "output_type": "stream",
     "text": [
      "{'HTTP': 'Hyper Text Transfer Protocol', 'WWW': 'World Wide Web'}\n"
     ]
    }
   ],
   "source": [
    "print(y)"
   ]
  },
  {
   "cell_type": "code",
   "execution_count": 78,
   "id": "e1606dcc",
   "metadata": {},
   "outputs": [
    {
     "data": {
      "text/plain": [
       "False"
      ]
     },
     "execution_count": 78,
     "metadata": {},
     "output_type": "execute_result"
    }
   ],
   "source": [
    "x == y"
   ]
  },
  {
   "cell_type": "markdown",
   "id": "54bf49d4",
   "metadata": {},
   "source": [
    "## 4. Builder"
   ]
  },
  {
   "cell_type": "code",
   "execution_count": null,
   "id": "d7907921",
   "metadata": {},
   "outputs": [],
   "source": []
  }
 ],
 "metadata": {
  "kernelspec": {
   "display_name": "Python 3 (ipykernel)",
   "language": "python",
   "name": "python3"
  },
  "language_info": {
   "codemirror_mode": {
    "name": "ipython",
    "version": 3
   },
   "file_extension": ".py",
   "mimetype": "text/x-python",
   "name": "python",
   "nbconvert_exporter": "python",
   "pygments_lexer": "ipython3",
   "version": "3.8.10"
  }
 },
 "nbformat": 4,
 "nbformat_minor": 5
}
