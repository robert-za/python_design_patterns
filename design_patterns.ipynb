{
 "cells": [
  {
   "cell_type": "markdown",
   "id": "2f8de1f8",
   "metadata": {},
   "source": [
    "# I. Creational Patterns"
   ]
  },
  {
   "cell_type": "markdown",
   "id": "e81a6e30",
   "metadata": {},
   "source": [
    "## 1. Factory"
   ]
  },
  {
   "cell_type": "code",
   "execution_count": 125,
   "id": "df0c8fd1",
   "metadata": {},
   "outputs": [],
   "source": [
    "class Dog:\n",
    "    \"\"\"A simple dog class.\"\"\"\n",
    "\n",
    "    def __init__(self, name):\n",
    "        self._name = name\n",
    "\n",
    "    def speak(self):\n",
    "        return \"Woof!\""
   ]
  },
  {
   "cell_type": "code",
   "execution_count": 126,
   "id": "6c905320",
   "metadata": {},
   "outputs": [],
   "source": [
    "class Cat:\n",
    "    \"\"\"A simple cat class.\"\"\"\n",
    "\n",
    "    def __init__(self, name):\n",
    "        self._name = name\n",
    "\n",
    "    def speak(self):\n",
    "        return \"Meow!\""
   ]
  },
  {
   "cell_type": "code",
   "execution_count": 127,
   "id": "3e7b859d",
   "metadata": {},
   "outputs": [],
   "source": [
    "def get_pet(pet=\"Dog\"):\n",
    "    \"\"\"The Factory Method.\"\"\"\n",
    "    pets = dict(dog=Dog(\"Chili\"), cat=Cat(\"Peppers\"))\n",
    "    return pets[pet]"
   ]
  },
  {
   "cell_type": "markdown",
   "id": "15b22369",
   "metadata": {},
   "source": [
    "### Example:"
   ]
  },
  {
   "cell_type": "code",
   "execution_count": 128,
   "id": "33441741",
   "metadata": {},
   "outputs": [],
   "source": [
    "d = get_pet(\"dog\").speak()"
   ]
  },
  {
   "cell_type": "code",
   "execution_count": 129,
   "id": "c5265bfe",
   "metadata": {},
   "outputs": [
    {
     "data": {
      "text/plain": [
       "'Woof!'"
      ]
     },
     "execution_count": 129,
     "metadata": {},
     "output_type": "execute_result"
    }
   ],
   "source": [
    "d"
   ]
  },
  {
   "cell_type": "code",
   "execution_count": 130,
   "id": "44631d18",
   "metadata": {},
   "outputs": [],
   "source": [
    "c = get_pet(\"cat\").speak()"
   ]
  },
  {
   "cell_type": "code",
   "execution_count": 131,
   "id": "0ac96c2b",
   "metadata": {},
   "outputs": [
    {
     "data": {
      "text/plain": [
       "'Meow!'"
      ]
     },
     "execution_count": 131,
     "metadata": {},
     "output_type": "execute_result"
    }
   ],
   "source": [
    "c"
   ]
  },
  {
   "cell_type": "markdown",
   "id": "4471d8b4",
   "metadata": {},
   "source": [
    "## 2. Abstact Factory"
   ]
  },
  {
   "cell_type": "code",
   "execution_count": 132,
   "id": "a1d9dca6",
   "metadata": {},
   "outputs": [],
   "source": [
    "class Dog:\n",
    "    \"\"\"One of the objects to be returned.\"\"\"\n",
    "\n",
    "    def speak(self):\n",
    "        return \"Woof!\"\n",
    "\n",
    "    def __str__(self):\n",
    "        return \"Dog\"\n",
    "\n",
    "\n",
    "class DogFactory:\n",
    "    \"\"\"Concrete Factory\"\"\"\n",
    "\n",
    "    def get_pet(self):\n",
    "        \"\"\"Returns a Dog object.\"\"\"\n",
    "        return Dog()\n",
    "\n",
    "    def get_food(self):\n",
    "        \"\"\"Returns a DogFood object.\"\"\"\n",
    "        return \"DogFood\"\n",
    "\n",
    "    \n",
    "class PetStore:\n",
    "    \"\"\"PetStore houses our Abstract Factory.\"\"\"\n",
    "\n",
    "    def __init__(self, pet_factory=None):\n",
    "        \"\"\"pet_factory is our Abstract Factory.\"\"\"\n",
    "        self._pet_factory = pet_factory\n",
    "\n",
    "    def show_pet(self):\n",
    "        \"\"\"Utility method to display the details of the objects returned.\"\"\"\n",
    "        pet = self._pet_factory.get_pet()\n",
    "        pet_food = self._pet_factory.get_food()\n",
    "\n",
    "        print(f\"Our pet is {pet}!\")\n",
    "        print(f\"Our pet says hello by {pet.speak()}\")\n",
    "        print(f\"Its food is {pet_food}!\")"
   ]
  },
  {
   "cell_type": "markdown",
   "id": "c2c2040f",
   "metadata": {},
   "source": [
    "### Example:"
   ]
  },
  {
   "cell_type": "markdown",
   "id": "5727baa9",
   "metadata": {},
   "source": [
    "####    Create a Concrete Factory"
   ]
  },
  {
   "cell_type": "code",
   "execution_count": 133,
   "id": "77ffc31c",
   "metadata": {},
   "outputs": [],
   "source": [
    "factory = DogFactory()"
   ]
  },
  {
   "cell_type": "markdown",
   "id": "9bdf774c",
   "metadata": {},
   "source": [
    "#### Create a pet store housing our Abstract Factory"
   ]
  },
  {
   "cell_type": "code",
   "execution_count": 134,
   "id": "3c77a3ec",
   "metadata": {},
   "outputs": [],
   "source": [
    "shop = PetStore(factory)"
   ]
  },
  {
   "cell_type": "markdown",
   "id": "ad6ebc98",
   "metadata": {},
   "source": [
    "#### Invoke the utility method to show the details of our pet"
   ]
  },
  {
   "cell_type": "code",
   "execution_count": 135,
   "id": "bd1414cc",
   "metadata": {},
   "outputs": [
    {
     "name": "stdout",
     "output_type": "stream",
     "text": [
      "Our pet is Dog!\n",
      "Our pet says hello by Woof!\n",
      "Its food is DogFood!\n"
     ]
    }
   ],
   "source": [
    "shop.show_pet()"
   ]
  },
  {
   "cell_type": "code",
   "execution_count": 136,
   "id": "a442f34d",
   "metadata": {},
   "outputs": [
    {
     "name": "stdout",
     "output_type": "stream",
     "text": [
      "Our pet is Cat!\n",
      "Our pet says hello by Meow!\n",
      "Its food is CatFood!\n"
     ]
    }
   ],
   "source": [
    "# Now having the Abstract Factory, we can use it to produce Cats and CatFood\n",
    "class Cat:\n",
    "    \"\"\"One of the objects to be returned.\"\"\"\n",
    "\n",
    "    def speak(self):\n",
    "        return \"Meow!\"\n",
    "\n",
    "    def __str__(self):\n",
    "        return \"Cat\"\n",
    "\n",
    "\n",
    "class CatFactory:\n",
    "    \"\"\"Concrete Factory\"\"\"\n",
    "\n",
    "    def get_pet(self):\n",
    "        \"\"\"Returns a Cat object.\"\"\"\n",
    "        return Cat()\n",
    "\n",
    "    def get_food(self):\n",
    "        \"\"\"Returns a CatFood object.\"\"\"\n",
    "        return \"CatFood\"\n",
    "\n",
    "\n",
    "cat_factory = CatFactory()\n",
    "cat_shop = PetStore(cat_factory)\n",
    "cat_shop.show_pet()"
   ]
  },
  {
   "cell_type": "markdown",
   "id": "337b78c8",
   "metadata": {},
   "source": [
    "## 3. Singleton"
   ]
  },
  {
   "cell_type": "code",
   "execution_count": 137,
   "id": "9c95cab2",
   "metadata": {},
   "outputs": [],
   "source": [
    "class Borg:\n",
    "    \"\"\"The Borg design pattern.\"\"\"\n",
    "\n",
    "    _shared_data = {}  # Attribute dict\n",
    "\n",
    "    def __init__(self):\n",
    "        self.__dict__ = self._shared_data  # Make an attribute dict\n",
    "\n",
    "class Singleton(Borg):\n",
    "    \"\"\"The singleton class\"\"\"\n",
    "\n",
    "    def __init__(self, **kwargs):\n",
    "        Borg.__init__(self)\n",
    "        self._shared_data.update(kwargs)  # Update the attr dict by inserting a new k-v pair\n",
    "\n",
    "    def __str__(self):\n",
    "        return str(self._shared_data)  # Returns attr dict for printing"
   ]
  },
  {
   "cell_type": "markdown",
   "id": "6276a520",
   "metadata": {},
   "source": [
    "### Example:"
   ]
  },
  {
   "cell_type": "markdown",
   "id": "f52bd282",
   "metadata": {},
   "source": [
    "#### Let's create a singleton object and add our first acronym"
   ]
  },
  {
   "cell_type": "code",
   "execution_count": 138,
   "id": "7cce2e33",
   "metadata": {},
   "outputs": [],
   "source": [
    "x = Singleton(HTTP = \"Hyper Text Transfer Protocol\")"
   ]
  },
  {
   "cell_type": "markdown",
   "id": "a749a0b5",
   "metadata": {},
   "source": [
    "#### Print the object"
   ]
  },
  {
   "cell_type": "code",
   "execution_count": 139,
   "id": "0f3ae68e",
   "metadata": {},
   "outputs": [
    {
     "name": "stdout",
     "output_type": "stream",
     "text": [
      "{'HTTP': 'Hyper Text Transfer Protocol'}\n"
     ]
    }
   ],
   "source": [
    "print(x)"
   ]
  },
  {
   "cell_type": "markdown",
   "id": "00712156",
   "metadata": {},
   "source": [
    "###### *This gets updated while rerunning the ^cell^, meaning singleton obj will be the same across the board"
   ]
  },
  {
   "cell_type": "markdown",
   "id": "a95b7ff4",
   "metadata": {},
   "source": [
    "#### Let's create another singleton object and if it refers to the same attribute dict by adding another acronym"
   ]
  },
  {
   "cell_type": "code",
   "execution_count": 140,
   "id": "f11b4475",
   "metadata": {},
   "outputs": [],
   "source": [
    "y = Singleton(WWW = \"World Wide Web\")"
   ]
  },
  {
   "cell_type": "markdown",
   "id": "ea3ea8c3",
   "metadata": {},
   "source": [
    "#### Print the object"
   ]
  },
  {
   "cell_type": "code",
   "execution_count": 141,
   "id": "f42e1ff7",
   "metadata": {},
   "outputs": [
    {
     "name": "stdout",
     "output_type": "stream",
     "text": [
      "{'HTTP': 'Hyper Text Transfer Protocol', 'WWW': 'World Wide Web'}\n"
     ]
    }
   ],
   "source": [
    "print(y)"
   ]
  },
  {
   "cell_type": "code",
   "execution_count": 142,
   "id": "e1606dcc",
   "metadata": {},
   "outputs": [
    {
     "data": {
      "text/plain": [
       "False"
      ]
     },
     "execution_count": 142,
     "metadata": {},
     "output_type": "execute_result"
    }
   ],
   "source": [
    "x == y"
   ]
  },
  {
   "cell_type": "markdown",
   "id": "54bf49d4",
   "metadata": {},
   "source": [
    "## 4. Builder"
   ]
  },
  {
   "cell_type": "code",
   "execution_count": 143,
   "id": "d7907921",
   "metadata": {},
   "outputs": [],
   "source": [
    "class Director():\n",
    "    def __init__(self, builder):\n",
    "        self._builder = builder\n",
    "\n",
    "    def construct_car(self):\n",
    "        self._builder.create_new_car()\n",
    "        self._builder.add_model()\n",
    "        self._builder.add_tires()\n",
    "        self._builder.add_engine()\n",
    "    \n",
    "    def get_car(self):\n",
    "        return self._builder.car\n",
    "\n",
    "\n",
    "class Builder():\n",
    "    \"\"\"Abstract Builder\"\"\"\n",
    "    def __init__(self):\n",
    "        self.car = None\n",
    "\n",
    "    def create_new_car(self):\n",
    "        self.car = Car()\n",
    "\n",
    "\n",
    "class AlfaRomeoMiToBuilder(Builder):\n",
    "    \"\"\"Concrete Builder --> provides parts and tools to work on the parent\"\"\"\n",
    "\n",
    "    def add_model(self):\n",
    "        self.car.model = \"Alfa Romeo MiTo\"\n",
    "\n",
    "    def add_tires(self):\n",
    "        self.car.tires = \"Continental\"\n",
    "\n",
    "    def add_engine(self):\n",
    "        self.car.engine = \"Turbo engine\"\n",
    "\n",
    "\n",
    "class MercedesBuilder(Builder):\n",
    "    \"\"\"Just add new class to create new car model\"\"\"\n",
    "\n",
    "    def add_model(self):\n",
    "        self.car.model = \"Mercedes-Benz\"\n",
    "\n",
    "    def add_tires(self):\n",
    "        self.car.tires = \"Goodyear\"\n",
    "\n",
    "    def add_engine(self):\n",
    "        self.car.engine = \"Diesel Engine\"\n",
    "\n",
    "        \n",
    "class Car():\n",
    "    \"\"\"Product\"\"\"\n",
    "    def __init__(self):\n",
    "        self.model = None\n",
    "        self.tires = None\n",
    "        self.engine = None\n",
    "\n",
    "    def __str__(self):\n",
    "        return f\"{self.model} | {self.tires} | {self.engine}\""
   ]
  },
  {
   "cell_type": "markdown",
   "id": "66a074aa",
   "metadata": {},
   "source": [
    "### Example:"
   ]
  },
  {
   "cell_type": "code",
   "execution_count": 144,
   "id": "0f20ea4a",
   "metadata": {},
   "outputs": [],
   "source": [
    "builder = AlfaRomeoMiToBuilder()\n",
    "director = Director(builder)\n",
    "director.construct_car()\n",
    "car = director.get_car()"
   ]
  },
  {
   "cell_type": "code",
   "execution_count": 145,
   "id": "207aa881",
   "metadata": {},
   "outputs": [
    {
     "name": "stdout",
     "output_type": "stream",
     "text": [
      "Alfa Romeo MiTo | Continental | Turbo engine\n"
     ]
    }
   ],
   "source": [
    "print(car)"
   ]
  },
  {
   "cell_type": "code",
   "execution_count": 146,
   "id": "4e959c45",
   "metadata": {},
   "outputs": [],
   "source": [
    "mercedes_builder = MercedesBuilder()\n",
    "mercedes_director = Director(mercedes_builder)\n",
    "mercedes_director.construct_car()\n",
    "mercedes_car = mercedes_director.get_car()"
   ]
  },
  {
   "cell_type": "code",
   "execution_count": 147,
   "id": "338b29e9",
   "metadata": {},
   "outputs": [
    {
     "name": "stdout",
     "output_type": "stream",
     "text": [
      "Mercedes-Benz | Goodyear | Diesel Engine\n"
     ]
    }
   ],
   "source": [
    "print(mercedes_car)"
   ]
  },
  {
   "cell_type": "markdown",
   "id": "f63c748a",
   "metadata": {},
   "source": [
    "# 5. Prototype"
   ]
  },
  {
   "cell_type": "code",
   "execution_count": 148,
   "id": "93e2cc65",
   "metadata": {},
   "outputs": [],
   "source": [
    "import copy"
   ]
  },
  {
   "cell_type": "code",
   "execution_count": 149,
   "id": "9d6e073f",
   "metadata": {},
   "outputs": [],
   "source": [
    "class Prototype:\n",
    "    def __init__(self):\n",
    "        self._objects = {}\n",
    "\n",
    "    def register_object(self, name, obj):\n",
    "        \"\"\"Register an object.\"\"\"\n",
    "        self._objects[name] = obj\n",
    "\n",
    "    def unregister_object(self, name):\n",
    "        \"\"\"Unregister an object\"\"\"\n",
    "        del self._objects[name]\n",
    "        \n",
    "    def clone(self, name, **attr):\n",
    "        \"\"\"Clone a registered object and update its attributes\"\"\"\n",
    "        obj = copy.deepcopy(self._objects.get(name))\n",
    "        obj.__dict__.update(attr)\n",
    "        return obj"
   ]
  },
  {
   "cell_type": "markdown",
   "id": "3639839e",
   "metadata": {},
   "source": [
    "### Example:"
   ]
  },
  {
   "cell_type": "code",
   "execution_count": 150,
   "id": "55e8262f",
   "metadata": {},
   "outputs": [],
   "source": [
    "class Car:\n",
    "    def __init__(self):\n",
    "        self.name = \"Alfa Romeo MiTo\"\n",
    "        self.color = \"Black\"\n",
    "        self.options = \"Quadrifoglio\"\n",
    "\n",
    "    def __str__(self):\n",
    "        return f\"{self.name} | {self.color} | {self.options}\""
   ]
  },
  {
   "cell_type": "code",
   "execution_count": 151,
   "id": "66dd4b6f",
   "metadata": {},
   "outputs": [],
   "source": [
    "car_mito = Car()\n",
    "prototype = Prototype()\n",
    "prototype.register_object(\"alfa romeo mito\", car_mito)"
   ]
  },
  {
   "cell_type": "code",
   "execution_count": 152,
   "id": "2f469b54",
   "metadata": {},
   "outputs": [],
   "source": [
    "second_car_mito = prototype.clone(\"alfa romeo mito\")"
   ]
  },
  {
   "cell_type": "code",
   "execution_count": 153,
   "id": "60cfacc7",
   "metadata": {},
   "outputs": [
    {
     "name": "stdout",
     "output_type": "stream",
     "text": [
      "Alfa Romeo MiTo | Black | Quadrifoglio\n"
     ]
    }
   ],
   "source": [
    "print(second_car_mito)"
   ]
  },
  {
   "cell_type": "markdown",
   "id": "21f3b67c",
   "metadata": {},
   "source": [
    "# II. Structural Patterns"
   ]
  },
  {
   "cell_type": "markdown",
   "id": "377faf17",
   "metadata": {},
   "source": [
    "## 1. Decorator"
   ]
  },
  {
   "cell_type": "code",
   "execution_count": 154,
   "id": "1c0f7420",
   "metadata": {},
   "outputs": [],
   "source": [
    "from functools import wraps"
   ]
  },
  {
   "cell_type": "code",
   "execution_count": 155,
   "id": "6f5cc5ee",
   "metadata": {},
   "outputs": [],
   "source": [
    "def make_blink(function):\n",
    "    \"\"\"Defines the decorator\"\"\"\n",
    "\n",
    "    # This makes the decorator transparent in terms of its name and docs\n",
    "    @wraps(function)\n",
    "\n",
    "    # Define the inner function\n",
    "    def decorator():\n",
    "        # Grab the return value of the function being decorated\n",
    "        ret = function()\n",
    "        \n",
    "        # Add new functionality to the function being decorated\n",
    "        return f\"<blink> {ret} </blink>\"\n",
    "        \n",
    "    return decorator"
   ]
  },
  {
   "cell_type": "code",
   "execution_count": 156,
   "id": "018fa9e2",
   "metadata": {},
   "outputs": [],
   "source": [
    "def hello_world():\n",
    "    \"Original function\"\n",
    "    return \"Hello, World!\""
   ]
  },
  {
   "cell_type": "markdown",
   "id": "d3d9a9e4",
   "metadata": {},
   "source": [
    "### Example:"
   ]
  },
  {
   "cell_type": "code",
   "execution_count": 157,
   "id": "0865e69c",
   "metadata": {},
   "outputs": [
    {
     "data": {
      "text/plain": [
       "'Hello, World!'"
      ]
     },
     "execution_count": 157,
     "metadata": {},
     "output_type": "execute_result"
    }
   ],
   "source": [
    "hello_world()"
   ]
  },
  {
   "cell_type": "code",
   "execution_count": 158,
   "id": "1d4a9131",
   "metadata": {},
   "outputs": [],
   "source": [
    "@make_blink\n",
    "def hello_world():\n",
    "    return \"Hello, World!\""
   ]
  },
  {
   "cell_type": "code",
   "execution_count": 159,
   "id": "32d2dbb8",
   "metadata": {},
   "outputs": [
    {
     "data": {
      "text/plain": [
       "'<blink> Hello, World! </blink>'"
      ]
     },
     "execution_count": 159,
     "metadata": {},
     "output_type": "execute_result"
    }
   ],
   "source": [
    "hello_world()"
   ]
  },
  {
   "cell_type": "markdown",
   "id": "04a3ec1a",
   "metadata": {},
   "source": [
    "## 2. Proxy"
   ]
  },
  {
   "cell_type": "code",
   "execution_count": 160,
   "id": "42392c90",
   "metadata": {},
   "outputs": [],
   "source": [
    "import time"
   ]
  },
  {
   "cell_type": "code",
   "execution_count": 161,
   "id": "bddec61a",
   "metadata": {},
   "outputs": [],
   "source": [
    "class Producer:\n",
    "    \"\"\"Define the 'resource-intensive' object to instantiate!\"\"\"\n",
    "    def produce(self):\n",
    "        print(\"Producer is working hard!\")\n",
    "\n",
    "    def meet(self):\n",
    "        print(\"Producer has time to meet you now!\")\n",
    "\n",
    "class Proxy:\n",
    "    \"\"\"\"Define the 'relatively less resource-intensive' proxy to instantiate as a middleman\"\"\"\n",
    "    def __init__(self):  \n",
    "        self.occupied = 'No'\n",
    "        self.producer = None\n",
    "\n",
    "    def produce(self):\n",
    "        \"\"\"Check if Producer is available\"\"\"\n",
    "        print(\"Artist checking if Producer is available ...\")\n",
    "\n",
    "        if self.occupied == 'No':\n",
    "            #If the producer is available, create a producer object!\n",
    "            self.producer = Producer()\n",
    "\n",
    "            #Make the prodcuer meet the guest!\n",
    "            self.producer.meet()\n",
    "\n",
    "        else:\n",
    "            #Otherwise, don't instantiate a producer \n",
    "            print(\"Producer is busy!\")"
   ]
  },
  {
   "cell_type": "markdown",
   "id": "4476fe6b",
   "metadata": {},
   "source": [
    "### Example:"
   ]
  },
  {
   "cell_type": "markdown",
   "id": "c5b2b205",
   "metadata": {},
   "source": [
    "#### Instantiate a Proxy"
   ]
  },
  {
   "cell_type": "code",
   "execution_count": 162,
   "id": "0c0b23cc",
   "metadata": {},
   "outputs": [],
   "source": [
    "p = Proxy()"
   ]
  },
  {
   "cell_type": "markdown",
   "id": "b56102c8",
   "metadata": {},
   "source": [
    "#### Make the proxy: Artist produce until Producer is available"
   ]
  },
  {
   "cell_type": "code",
   "execution_count": 163,
   "id": "33d0f705",
   "metadata": {},
   "outputs": [
    {
     "name": "stdout",
     "output_type": "stream",
     "text": [
      "Artist checking if Producer is available ...\n",
      "Producer has time to meet you now!\n"
     ]
    }
   ],
   "source": [
    "p.produce()"
   ]
  },
  {
   "cell_type": "markdown",
   "id": "991dfa0d",
   "metadata": {},
   "source": [
    "##### Change the state to 'occupied'"
   ]
  },
  {
   "cell_type": "code",
   "execution_count": 164,
   "id": "fa6f218c",
   "metadata": {},
   "outputs": [],
   "source": [
    "p.occupied = 'Yes'"
   ]
  },
  {
   "cell_type": "markdown",
   "id": "f077f7ee",
   "metadata": {},
   "source": [
    "#### Make the Producer produce"
   ]
  },
  {
   "cell_type": "code",
   "execution_count": 165,
   "id": "d70606b0",
   "metadata": {},
   "outputs": [
    {
     "name": "stdout",
     "output_type": "stream",
     "text": [
      "Artist checking if Producer is available ...\n",
      "Producer is busy!\n"
     ]
    }
   ],
   "source": [
    "p.produce()"
   ]
  },
  {
   "cell_type": "markdown",
   "id": "e5091481",
   "metadata": {},
   "source": [
    "## 3. Adapter"
   ]
  },
  {
   "cell_type": "code",
   "execution_count": 166,
   "id": "65fd8bb3",
   "metadata": {},
   "outputs": [],
   "source": [
    "class Korean:\n",
    "    \"\"\"Korean speaker\"\"\"\n",
    "    def __init__(self):\n",
    "        self.name = \"Korean\"\n",
    "\n",
    "    def speak_korean(self):\n",
    "        return \"An-neyong?\"\n",
    "\n",
    "class British:\n",
    "    \"\"\"English speaker\"\"\"\n",
    "    def __init__(self):\n",
    "        self.name = \"British\"\t\n",
    "\n",
    "    #Note the different method name here!\n",
    "    def speak_english(self):\n",
    "        return \"Hello!\"\t\n",
    "\n",
    "class Adapter:\n",
    "    \"\"\"This changes the generic method name to individualized method names\"\"\"\n",
    "\n",
    "    def __init__(self, object, **adapted_method):\n",
    "        \"\"\"Change the name of the method\"\"\"\n",
    "        self._object = object\n",
    "\n",
    "        #Add a new dictionary item that establishes the mapping between the generic method name: speak() and the concrete method\n",
    "        #For example, speak() will be translated to speak_korean() if the mapping says so\n",
    "        self.__dict__.update(adapted_method)\n",
    "\n",
    "    def __getattr__(self, attr):\n",
    "        \"\"\"Simply return the rest of attributes!\"\"\"\n",
    "        return getattr(self._object, attr)"
   ]
  },
  {
   "cell_type": "markdown",
   "id": "09e65e64",
   "metadata": {},
   "source": [
    "### Example:"
   ]
  },
  {
   "cell_type": "markdown",
   "id": "15c3e114",
   "metadata": {},
   "source": [
    "#### List to store speaker objects"
   ]
  },
  {
   "cell_type": "code",
   "execution_count": 167,
   "id": "db80212a",
   "metadata": {},
   "outputs": [],
   "source": [
    "objects = []"
   ]
  },
  {
   "cell_type": "markdown",
   "id": "49e44568",
   "metadata": {},
   "source": [
    "#### Create a Korean object"
   ]
  },
  {
   "cell_type": "code",
   "execution_count": 168,
   "id": "234ae340",
   "metadata": {},
   "outputs": [],
   "source": [
    "korean = Korean()"
   ]
  },
  {
   "cell_type": "markdown",
   "id": "8aa35276",
   "metadata": {},
   "source": [
    "#### Create a British object"
   ]
  },
  {
   "cell_type": "code",
   "execution_count": 169,
   "id": "205f5d70",
   "metadata": {},
   "outputs": [],
   "source": [
    "british = British()"
   ]
  },
  {
   "cell_type": "markdown",
   "id": "cee175ab",
   "metadata": {},
   "source": [
    "#### Append the objects to the objects list"
   ]
  },
  {
   "cell_type": "code",
   "execution_count": 170,
   "id": "56da8bc0",
   "metadata": {},
   "outputs": [],
   "source": [
    "objects.append(Adapter(korean, speak=korean.speak_korean))\n",
    "objects.append(Adapter(british, speak=british.speak_english))"
   ]
  },
  {
   "cell_type": "code",
   "execution_count": 171,
   "id": "7d244da2",
   "metadata": {},
   "outputs": [
    {
     "name": "stdout",
     "output_type": "stream",
     "text": [
      "Korean says 'An-neyong?'\n",
      "\n",
      "British says 'Hello!'\n",
      "\n"
     ]
    }
   ],
   "source": [
    "for obj in objects:\n",
    "    print(f\"{obj.name} says '{obj.speak()}'\\n\")"
   ]
  },
  {
   "cell_type": "markdown",
   "id": "a762e5a5",
   "metadata": {},
   "source": [
    "## 4. Composite"
   ]
  },
  {
   "cell_type": "code",
   "execution_count": 7,
   "id": "19e89b98",
   "metadata": {},
   "outputs": [],
   "source": [
    "class Component(object):\n",
    "    \"\"\"Abstract class\"\"\"\n",
    "\n",
    "    def __init__(self, *args, **kwargs):\n",
    "        pass\n",
    "\n",
    "    def component_function(self):\n",
    "        pass\n",
    "\n",
    "    \n",
    "class Child(Component):\n",
    "    \"\"\"Concrete class\"\"\"\n",
    "\n",
    "    def __init__(self, *args, **kwargs):\n",
    "        Component.__init__(self, *args, **kwargs)\n",
    "        self.name = args[0]\n",
    "\n",
    "    def component_function(self):\n",
    "        print(\"{}\".format(self.name))\n",
    "\n",
    "        \n",
    "class Composite(Component):\n",
    "    \"\"\"Concrete class and maintains the tree recursive structure\"\"\"\n",
    "\n",
    "    def __init__(self, *args, **kwargs):\n",
    "        Component.__init__(self, *args, **kwargs)\n",
    "        self.name = args[0]\n",
    "        self.children = []\n",
    "\n",
    "    def append_child(self, child):\n",
    "        \"\"\"Method to add a new child item\"\"\"\n",
    "        self.children.append(child)\n",
    "\n",
    "    def remove_child(self, child):\n",
    "        \"\"\"Method to remove a child item\"\"\"\n",
    "        self.children.remove(child)\n",
    "\n",
    "    def component_function(self):\n",
    "\n",
    "        print(\"{}\".format(self.name))\n",
    "\n",
    "        #Iterate through the child objects and invoke their component function printing their names\n",
    "        for i in self.children:\n",
    "            i.component_function()"
   ]
  },
  {
   "cell_type": "markdown",
   "id": "5dc8ce19",
   "metadata": {},
   "source": [
    "### Example:"
   ]
  },
  {
   "cell_type": "markdown",
   "id": "c6a105bb",
   "metadata": {},
   "source": [
    "#### Build a composite submenu 1"
   ]
  },
  {
   "cell_type": "code",
   "execution_count": 173,
   "id": "e5289e48",
   "metadata": {},
   "outputs": [],
   "source": [
    "sub1 = Composite(\"submenu1\")"
   ]
  },
  {
   "cell_type": "markdown",
   "id": "fe2c33f7",
   "metadata": {},
   "source": [
    "#### Create a new child sub_submenu 11"
   ]
  },
  {
   "cell_type": "code",
   "execution_count": 174,
   "id": "1f2ea6cc",
   "metadata": {},
   "outputs": [],
   "source": [
    "sub11 = Child(\"sub_submenu 11\")"
   ]
  },
  {
   "cell_type": "markdown",
   "id": "c9daa953",
   "metadata": {},
   "source": [
    "#### Create a new Child sub_submenu 12"
   ]
  },
  {
   "cell_type": "code",
   "execution_count": 175,
   "id": "38dfd043",
   "metadata": {},
   "outputs": [],
   "source": [
    "sub12 = Child(\"sub_submenu 12\")"
   ]
  },
  {
   "cell_type": "markdown",
   "id": "3b68fc52",
   "metadata": {},
   "source": [
    "#### Add the sub_submenu 11 to submenu 1"
   ]
  },
  {
   "cell_type": "code",
   "execution_count": 176,
   "id": "5a2cf245",
   "metadata": {},
   "outputs": [],
   "source": [
    "sub1.append_child(sub11)"
   ]
  },
  {
   "cell_type": "markdown",
   "id": "42754699",
   "metadata": {},
   "source": [
    "#### Add the sub_submenu 12 to submenu 1"
   ]
  },
  {
   "cell_type": "code",
   "execution_count": 177,
   "id": "7e2fcd58",
   "metadata": {},
   "outputs": [],
   "source": [
    "sub1.append_child(sub12)"
   ]
  },
  {
   "cell_type": "markdown",
   "id": "3e862902",
   "metadata": {},
   "source": [
    "#### Build a top-level composite menu"
   ]
  },
  {
   "cell_type": "code",
   "execution_count": 178,
   "id": "12c0a254",
   "metadata": {},
   "outputs": [],
   "source": [
    "top = Composite(\"top_menu\")"
   ]
  },
  {
   "cell_type": "markdown",
   "id": "5ea26001",
   "metadata": {},
   "source": [
    "#### Build a submenu 2 that is not a composite"
   ]
  },
  {
   "cell_type": "code",
   "execution_count": 179,
   "id": "fa0406e4",
   "metadata": {},
   "outputs": [],
   "source": [
    "sub2 = Child(\"submenu2\")"
   ]
  },
  {
   "cell_type": "markdown",
   "id": "81f3ee7a",
   "metadata": {},
   "source": [
    "#### Add the composite submenu 1 to the top-level composite menu"
   ]
  },
  {
   "cell_type": "code",
   "execution_count": 181,
   "id": "73ff152c",
   "metadata": {},
   "outputs": [],
   "source": [
    "top.append_child(sub1)"
   ]
  },
  {
   "cell_type": "markdown",
   "id": "38da0a41",
   "metadata": {},
   "source": [
    "#### Add the plain submenu 2 to the top-level composite menu"
   ]
  },
  {
   "cell_type": "code",
   "execution_count": 182,
   "id": "c0cc40c5",
   "metadata": {},
   "outputs": [],
   "source": [
    "top.append_child(sub2)"
   ]
  },
  {
   "cell_type": "markdown",
   "id": "5fa7a960",
   "metadata": {},
   "source": [
    "#### Let's test if our Composite pattern works!"
   ]
  },
  {
   "cell_type": "code",
   "execution_count": 190,
   "id": "eaf733c6",
   "metadata": {},
   "outputs": [
    {
     "name": "stdout",
     "output_type": "stream",
     "text": [
      "top_menu\n",
      "submenu1\n",
      "sub_submenu 11\n",
      "sub_submenu 12\n",
      "submenu2\n"
     ]
    }
   ],
   "source": [
    "top.component_function()"
   ]
  },
  {
   "cell_type": "markdown",
   "id": "66e469ec",
   "metadata": {},
   "source": [
    "## 5. Bridge"
   ]
  },
  {
   "cell_type": "code",
   "execution_count": 198,
   "id": "24cf53df",
   "metadata": {},
   "outputs": [],
   "source": [
    "class DrawingAPIOne:\n",
    "    \"\"\"Implementation-specific abstraction: concrete class one\"\"\"\n",
    "    def draw_circle(self, x, y, radius):\n",
    "        print(f\"API 1 drawing a circle at ({x}, {y} with radius {radius}!)\")\n",
    "\n",
    "\n",
    "class DrawingAPITwo:\n",
    "    \"\"\"Implementation-specific abstraction: concrete class two\"\"\"\n",
    "    def draw_circle(self, x, y, radius):\n",
    "        print(f\"API 2 drawing a circle at ({x}, {y} with radius {radius}!)\")\n",
    "\n",
    "\n",
    "class Circle:\n",
    "    \"\"\"Implementation-independent abstraction: for example, there could be a rectangle class!\"\"\"\n",
    "\n",
    "    def __init__(self, x, y, radius, drawing_api):\n",
    "        \"\"\"Initialize the necessary attributes\"\"\"\n",
    "        self._x = x\n",
    "        self._y = y\n",
    "        self._radius = radius\n",
    "        self._drawing_api = drawing_api\n",
    "\n",
    "    def draw(self):\n",
    "        \"\"\"Implementation-specific abstraction taken care of by another class: DrawingAPI\"\"\"\n",
    "        self._drawing_api.draw_circle(self._x, self._y, self._radius)\n",
    "\n",
    "    def scale(self, percent):\n",
    "        \"\"\"Implementation-independent\"\"\"\n",
    "        self._radius *= percent"
   ]
  },
  {
   "cell_type": "markdown",
   "id": "9129d214",
   "metadata": {},
   "source": [
    "#### Build the first Circle object using API One"
   ]
  },
  {
   "cell_type": "code",
   "execution_count": 208,
   "id": "9bd5c6b9",
   "metadata": {},
   "outputs": [],
   "source": [
    "circle1 = Circle(1, 2, 3, DrawingAPIOne())"
   ]
  },
  {
   "cell_type": "markdown",
   "id": "a738cef2",
   "metadata": {},
   "source": [
    "#### Draw a circle"
   ]
  },
  {
   "cell_type": "code",
   "execution_count": 209,
   "id": "1af7d8fb",
   "metadata": {},
   "outputs": [
    {
     "name": "stdout",
     "output_type": "stream",
     "text": [
      "API 1 drawing a circle at (1, 2 with radius 3!)\n"
     ]
    }
   ],
   "source": [
    "circle1.draw()"
   ]
  },
  {
   "cell_type": "markdown",
   "id": "f4965bf6",
   "metadata": {},
   "source": [
    "#### Build the second Circle object using API Two"
   ]
  },
  {
   "cell_type": "code",
   "execution_count": 210,
   "id": "27fefadb",
   "metadata": {},
   "outputs": [],
   "source": [
    "circle2 = Circle(2, 3, 4, DrawingAPITwo())"
   ]
  },
  {
   "cell_type": "markdown",
   "id": "248b9ed6",
   "metadata": {},
   "source": [
    "#### Draw a circle"
   ]
  },
  {
   "cell_type": "code",
   "execution_count": 211,
   "id": "09ba85ae",
   "metadata": {},
   "outputs": [
    {
     "name": "stdout",
     "output_type": "stream",
     "text": [
      "API 2 drawing a circle at (2, 3 with radius 4!)\n"
     ]
    }
   ],
   "source": [
    "circle2.draw()"
   ]
  },
  {
   "cell_type": "code",
   "execution_count": 212,
   "id": "732e876c",
   "metadata": {},
   "outputs": [],
   "source": [
    "circle2.scale(2)"
   ]
  },
  {
   "cell_type": "code",
   "execution_count": 213,
   "id": "f11b0c2f",
   "metadata": {},
   "outputs": [
    {
     "name": "stdout",
     "output_type": "stream",
     "text": [
      "API 2 drawing a circle at (2, 3 with radius 8!)\n"
     ]
    }
   ],
   "source": [
    "circle2.draw()"
   ]
  },
  {
   "cell_type": "markdown",
   "id": "37046b42",
   "metadata": {},
   "source": [
    "# III. Behavioral Patterns"
   ]
  },
  {
   "cell_type": "markdown",
   "id": "d9c974c2",
   "metadata": {},
   "source": [
    "## 1. Observer"
   ]
  },
  {
   "cell_type": "code",
   "execution_count": 15,
   "id": "bb55b6f2",
   "metadata": {},
   "outputs": [],
   "source": [
    "class Subject(object):  # Represents what is being 'observed'\n",
    "\n",
    "    def __init__(self):\n",
    "        self._observers = []  # This where references to all the observers are being kept\n",
    "                              # Note that this is a one-to-many relationship: there will be one subject to be observed by multiple _observers\n",
    "\n",
    "    def attach(self, observer):\n",
    "        if observer not in self._observers:  # If the observer is not already in the observers list\n",
    "            self._observers.append(observer)  # append the observer to the list\n",
    "\n",
    "    def detach(self, observer):  # Simply remove the observer\n",
    "        try:\n",
    "            self._observers.remove(observer)\n",
    "        except ValueError:\n",
    "            pass\n",
    "\n",
    "    def notify(self, modifier=None):\n",
    "        for observer in self._observers:  # For all the observers in the list\n",
    "            if modifier != observer:  # Don't notify the observer who is actually updating the temperature \n",
    "                observer.update(self)  # Alert the observers!\n",
    "\n",
    "class Core(Subject):  # Inherits from the Subject class\n",
    "\n",
    "    def __init__(self, name=\"\"):\n",
    "        Subject.__init__(self)\n",
    "        self._name = name  # Set the name of the core\n",
    "        self._temp = 0  # Initialize the temperature of the core\n",
    "\n",
    "    @property  # Getter that gets the core temperature\n",
    "    def temp(self):\n",
    "        return self._temp\n",
    "\n",
    "    @temp.setter\n",
    "    def temp(self, temp):\n",
    "        self._temp = temp\n",
    "        self.notify()  # Notify the observers whenever somebody changes the core temperature\n",
    "\n",
    "class TempViewer:\n",
    "\n",
    "    def update(self, subject): # Alert method that is invoked when the notify() method in a concrete subject is invoked\n",
    "        print(f\"Temperature Viewer: {subject._name} has Temperature {subject._temp}\")"
   ]
  },
  {
   "cell_type": "markdown",
   "id": "5482f6a3",
   "metadata": {},
   "source": [
    "### Example:"
   ]
  },
  {
   "cell_type": "markdown",
   "id": "f0f3e960",
   "metadata": {},
   "source": [
    "#### Let's create our subjects"
   ]
  },
  {
   "cell_type": "code",
   "execution_count": 11,
   "id": "f781d29c",
   "metadata": {},
   "outputs": [],
   "source": [
    "c1 = Core(\"Core 1\")\n",
    "c2 = Core(\"Core 2\")"
   ]
  },
  {
   "cell_type": "markdown",
   "id": "b0e960ea",
   "metadata": {},
   "source": [
    "#### Let's create our observers"
   ]
  },
  {
   "cell_type": "code",
   "execution_count": 12,
   "id": "e8cb66a7",
   "metadata": {},
   "outputs": [],
   "source": [
    "v1 = TempViewer()\n",
    "v2 = TempViewer()"
   ]
  },
  {
   "cell_type": "markdown",
   "id": "e3c27b32",
   "metadata": {},
   "source": [
    "#### Let's attach our observers to the first core"
   ]
  },
  {
   "cell_type": "code",
   "execution_count": 13,
   "id": "0c060810",
   "metadata": {},
   "outputs": [],
   "source": [
    "c1.attach(v1)\n",
    "c1.attach(v2)"
   ]
  },
  {
   "cell_type": "markdown",
   "id": "707703e0",
   "metadata": {},
   "source": [
    "#### Let's change the temperature of our first core"
   ]
  },
  {
   "cell_type": "code",
   "execution_count": 14,
   "id": "0c27b94d",
   "metadata": {},
   "outputs": [
    {
     "name": "stdout",
     "output_type": "stream",
     "text": [
      "Temperature Viewer: Core 1 has Temperature 80\n",
      "Temperature Viewer: Core 1 has Temperature 80\n",
      "Temperature Viewer: Core 1 has Temperature 90\n",
      "Temperature Viewer: Core 1 has Temperature 90\n"
     ]
    }
   ],
   "source": [
    "c1.temp = 80\n",
    "c1.temp = 90"
   ]
  },
  {
   "cell_type": "markdown",
   "id": "e20c32e1",
   "metadata": {},
   "source": [
    "## 2. Visitor"
   ]
  },
  {
   "cell_type": "code",
   "execution_count": 16,
   "id": "35ec3206",
   "metadata": {},
   "outputs": [],
   "source": [
    "class House(object):  # The class being visited \n",
    "    def accept(self, visitor):\n",
    "        \"\"\"Interface to accept a visitor\"\"\"\n",
    "        visitor.visit(self)  # Triggers the visiting operation!\n",
    "\n",
    "    def work_on_hvac(self, hvac_specialist):\n",
    "        print(self, \"worked on by\", hvac_specialist)  # Note that we now have a reference to the HVAC specialist object in the house object!\n",
    "\n",
    "    def work_on_electricity(self, electrician):\n",
    "        print(self, \"worked on by\", electrician)  # Note that we now have a reference to the electrician object in the house object!\n",
    "\n",
    "    def __str__(self):\n",
    "        \"\"\"Simply return the class name when the House object is printed\"\"\"\n",
    "        return self.__class__.__name__\n",
    "\n",
    "\n",
    "class Visitor(object):\n",
    "    \"\"\"Abstract visitor\"\"\"\n",
    "    def __str__(self):\n",
    "        \"\"\"Simply return the class name when the Visitor object is printed\"\"\"\n",
    "        return self.__class__.__name__\n",
    "\n",
    "\n",
    "class HvacSpecialist(Visitor):  # Inherits from the parent class, Visitor\n",
    "    \"\"\"Concrete visitor: HVAC specialist\"\"\"\n",
    "    def visit(self, house):\n",
    "        house.work_on_hvac(self)  # Note that the visitor now has a reference to the house object\n",
    "\n",
    "\n",
    "class Electrician(Visitor):  # Inherits from the parent class, Visitor\n",
    "    \"\"\"Concrete visitor: electrician\"\"\"\n",
    "    def visit(self, house):\n",
    "        house.work_on_electricity(self)  # Note that the visitor now has a reference to the house object"
   ]
  },
  {
   "cell_type": "markdown",
   "id": "2758d41e",
   "metadata": {},
   "source": [
    "### Example:"
   ]
  },
  {
   "cell_type": "markdown",
   "id": "f5bbe06a",
   "metadata": {},
   "source": [
    "#### Create an HVAC specialist"
   ]
  },
  {
   "cell_type": "code",
   "execution_count": 17,
   "id": "2aa50a37",
   "metadata": {},
   "outputs": [],
   "source": [
    "hv = HvacSpecialist()"
   ]
  },
  {
   "cell_type": "markdown",
   "id": "0c745831",
   "metadata": {},
   "source": [
    "#### Create an electrician"
   ]
  },
  {
   "cell_type": "code",
   "execution_count": 18,
   "id": "bd512c1f",
   "metadata": {},
   "outputs": [],
   "source": [
    "e = Electrician()"
   ]
  },
  {
   "cell_type": "markdown",
   "id": "4ffe0e50",
   "metadata": {},
   "source": [
    "#### Create a house"
   ]
  },
  {
   "cell_type": "code",
   "execution_count": 19,
   "id": "1129d5e3",
   "metadata": {},
   "outputs": [],
   "source": [
    "home = House()"
   ]
  },
  {
   "cell_type": "markdown",
   "id": "cc7eb99e",
   "metadata": {},
   "source": [
    "#### Let the house accept the HVAC specialist and work on the house by invoking the visit() method"
   ]
  },
  {
   "cell_type": "code",
   "execution_count": 20,
   "id": "635ea1d2",
   "metadata": {},
   "outputs": [
    {
     "name": "stdout",
     "output_type": "stream",
     "text": [
      "House worked on by HvacSpecialist\n"
     ]
    }
   ],
   "source": [
    "home.accept(hv)"
   ]
  },
  {
   "cell_type": "markdown",
   "id": "ee670eae",
   "metadata": {},
   "source": [
    "#### Let the house accept the electrician and work on the house by invoking the visit() method"
   ]
  },
  {
   "cell_type": "code",
   "execution_count": 21,
   "id": "7e86ea9c",
   "metadata": {},
   "outputs": [
    {
     "name": "stdout",
     "output_type": "stream",
     "text": [
      "House worked on by Electrician\n"
     ]
    }
   ],
   "source": [
    "home.accept(e)"
   ]
  },
  {
   "cell_type": "markdown",
   "id": "16a82343",
   "metadata": {},
   "source": [
    "## 3. Iterator"
   ]
  },
  {
   "cell_type": "code",
   "execution_count": 35,
   "id": "3dbc908c",
   "metadata": {},
   "outputs": [],
   "source": [
    "def count_to(count):\n",
    "    \"\"\"Our iterator implementation\"\"\"\n",
    "    \n",
    "    numbers_in_polish = [\"jeden\", \"dwa\", \"trzy\", \"cztery\", \"piec\"]\n",
    "\n",
    "    iterator = zip(range(count), numbers_in_polish)\n",
    "\n",
    "    for position, number in iterator:\n",
    "        yield number "
   ]
  },
  {
   "cell_type": "markdown",
   "id": "ddf56d72",
   "metadata": {},
   "source": [
    "### Example:"
   ]
  },
  {
   "cell_type": "markdown",
   "id": "ad762c1b",
   "metadata": {},
   "source": [
    "#### Let's test the generator returned by our iterator"
   ]
  },
  {
   "cell_type": "code",
   "execution_count": 40,
   "id": "cca6883f",
   "metadata": {},
   "outputs": [],
   "source": [
    "for num in count_to(0):\n",
    "    print(f\"{format(num)}\")"
   ]
  },
  {
   "cell_type": "code",
   "execution_count": 41,
   "id": "f9f1bc89",
   "metadata": {},
   "outputs": [
    {
     "name": "stdout",
     "output_type": "stream",
     "text": [
      "jeden\n",
      "dwa\n"
     ]
    }
   ],
   "source": [
    "for num in count_to(2):\n",
    "    print(f\"{format(num)}\")"
   ]
  },
  {
   "cell_type": "code",
   "execution_count": 42,
   "id": "a9ad235f",
   "metadata": {},
   "outputs": [
    {
     "name": "stdout",
     "output_type": "stream",
     "text": [
      "jeden\n",
      "dwa\n",
      "trzy\n",
      "cztery\n",
      "piec\n"
     ]
    }
   ],
   "source": [
    "for num in count_to(5):\n",
    "    print(f\"{format(num)}\")"
   ]
  },
  {
   "cell_type": "markdown",
   "id": "965e027e",
   "metadata": {},
   "source": [
    "## 4. Strategy"
   ]
  },
  {
   "cell_type": "code",
   "execution_count": 45,
   "id": "2c5f2e9e",
   "metadata": {},
   "outputs": [],
   "source": [
    "import types\n",
    "\n",
    "class Strategy:\n",
    "    \"\"\"The Strategy Pattern class\"\"\"\n",
    "    \n",
    "    def __init__(self, function=None):\n",
    "        self.name = \"Default Strategy\"\n",
    "        \n",
    "        #If a reference to a function is provided, replace the execute() method with the given function\n",
    "        if function:\n",
    "            self.execute = types.MethodType(function, self)\n",
    "            \n",
    "    def execute(self):  # This gets replaced by another version if another strategy is provided.\n",
    "        \"\"\"The defaut method that prints the name of the strategy being used\"\"\"\n",
    "        print(f\"{self.name} is used!\")"
   ]
  },
  {
   "cell_type": "markdown",
   "id": "af734ea3",
   "metadata": {},
   "source": [
    "### Example:"
   ]
  },
  {
   "cell_type": "markdown",
   "id": "a91bbb2d",
   "metadata": {},
   "source": [
    "#### Replacement method 1"
   ]
  },
  {
   "cell_type": "code",
   "execution_count": 47,
   "id": "bbf885d6",
   "metadata": {},
   "outputs": [],
   "source": [
    "def strategy_one(self):\n",
    "    print(f\"{self.name} is used to execute method 1\")"
   ]
  },
  {
   "cell_type": "markdown",
   "id": "8205e697",
   "metadata": {},
   "source": [
    "#### Replacement method 2  "
   ]
  },
  {
   "cell_type": "code",
   "execution_count": 48,
   "id": "61ea6426",
   "metadata": {},
   "outputs": [],
   "source": [
    "def strategy_two(self):\n",
    "    print(f\"{self.name} is used to execute method 2\")"
   ]
  },
  {
   "cell_type": "markdown",
   "id": "4cbc1f66",
   "metadata": {},
   "source": [
    "#### Let's create our default strategy"
   ]
  },
  {
   "cell_type": "code",
   "execution_count": 49,
   "id": "92bd91e6",
   "metadata": {},
   "outputs": [],
   "source": [
    "s0 = Strategy()"
   ]
  },
  {
   "cell_type": "markdown",
   "id": "a60cf937",
   "metadata": {},
   "source": [
    "#### Let's execute our default strategy"
   ]
  },
  {
   "cell_type": "code",
   "execution_count": 50,
   "id": "9a11d881",
   "metadata": {},
   "outputs": [
    {
     "name": "stdout",
     "output_type": "stream",
     "text": [
      "Default Strategy is used!\n"
     ]
    }
   ],
   "source": [
    "s0.execute()"
   ]
  },
  {
   "cell_type": "markdown",
   "id": "52eae309",
   "metadata": {},
   "source": [
    "#### Let's create the first varition of our default strategy by providing a new behavior"
   ]
  },
  {
   "cell_type": "code",
   "execution_count": 51,
   "id": "edb1745d",
   "metadata": {},
   "outputs": [],
   "source": [
    "s1 = Strategy(strategy_one)"
   ]
  },
  {
   "cell_type": "markdown",
   "id": "6cfffd4e",
   "metadata": {},
   "source": [
    "#### Let's set its name"
   ]
  },
  {
   "cell_type": "code",
   "execution_count": 52,
   "id": "e029b71b",
   "metadata": {},
   "outputs": [],
   "source": [
    "s1.name = \"Strategy One\""
   ]
  },
  {
   "cell_type": "markdown",
   "id": "cb8b116d",
   "metadata": {},
   "source": [
    "#### Let's execute the strategy"
   ]
  },
  {
   "cell_type": "code",
   "execution_count": 53,
   "id": "af4123d1",
   "metadata": {},
   "outputs": [
    {
     "name": "stdout",
     "output_type": "stream",
     "text": [
      "Strategy One is used to execute method 1\n"
     ]
    }
   ],
   "source": [
    "s1.execute()"
   ]
  },
  {
   "cell_type": "code",
   "execution_count": 54,
   "id": "d1314489",
   "metadata": {},
   "outputs": [
    {
     "name": "stdout",
     "output_type": "stream",
     "text": [
      "Strategy Two is used to execute method 2\n"
     ]
    }
   ],
   "source": [
    "s2 = Strategy(strategy_two)\n",
    "s2.name = \"Strategy Two\"\n",
    "s2.execute()"
   ]
  },
  {
   "cell_type": "markdown",
   "id": "d7b71aa6",
   "metadata": {},
   "source": [
    "## 5. Chain of Responsibility"
   ]
  },
  {
   "cell_type": "code",
   "execution_count": 56,
   "id": "d64552ee",
   "metadata": {},
   "outputs": [],
   "source": [
    "class Handler:  # Abstract handler\n",
    "    \"\"\"Abstract Handler\"\"\"\n",
    "    def __init__(self, successor):\n",
    "        self._successor = successor  # Define who is the next handler\n",
    "\n",
    "    def handle(self, request):\n",
    "            handled = self._handle(request)  # If handled, stop here\n",
    "\n",
    "            # Otherwise, keep going\n",
    "            if not handled:\n",
    "                self._successor.handle(request)    \n",
    "\n",
    "    def _handle(self, request):\n",
    "        raise NotImplementedError('Must provide implementation in subclass!')\n",
    "\n",
    "class ConcreteHandler1(Handler):\n",
    "    \"\"\"Concrete handler 1\"\"\"\n",
    "    def _handle(self, request):\n",
    "        if 0 < request <= 10:  # Provide a condition for handling\n",
    "            print(\"Request {} handled in handler 1\".format(request))\n",
    "            return True  # Indicates that the request has been handled\n",
    "\n",
    "class DefaultHandler(Handler):\n",
    "    \"\"\"Default handler\"\"\"\n",
    "\n",
    "    def _handle(self, request):\n",
    "        \"\"\"If there is no handler available\"\"\"\n",
    "        # No condition checking since this is a default handler\n",
    "        print(\"End of chain, no handler for {}\".format(request))\n",
    "        return True  # Indicates that the request has been handled\n",
    "\n",
    "class Client: # Using handlers\n",
    "    def __init__(self):\n",
    "        self.handler = ConcreteHandler1(DefaultHandler(None))  # Create handlers and use them in a sequence you want\n",
    "                                                               # Note that the default handler has no successor\n",
    "\n",
    "    def delegate(self, requests):  # Send your requests one at a time for handlers to handle\n",
    "        for request in requests:\n",
    "                self.handler.handle(request)"
   ]
  },
  {
   "cell_type": "markdown",
   "id": "eab3c131",
   "metadata": {},
   "source": [
    "#### Create a client"
   ]
  },
  {
   "cell_type": "code",
   "execution_count": 57,
   "id": "20bf99a7",
   "metadata": {},
   "outputs": [],
   "source": [
    "c = Client()"
   ]
  },
  {
   "cell_type": "markdown",
   "id": "506df45a",
   "metadata": {},
   "source": [
    "#### Create requests"
   ]
  },
  {
   "cell_type": "code",
   "execution_count": 58,
   "id": "053d14b1",
   "metadata": {},
   "outputs": [],
   "source": [
    "requests = [2, 5, 30]"
   ]
  },
  {
   "cell_type": "markdown",
   "id": "74117e71",
   "metadata": {},
   "source": [
    "#### Send the requests"
   ]
  },
  {
   "cell_type": "code",
   "execution_count": 59,
   "id": "b6c9d91b",
   "metadata": {},
   "outputs": [
    {
     "name": "stdout",
     "output_type": "stream",
     "text": [
      "Request 2 handled in handler 1\n",
      "Request 5 handled in handler 1\n",
      "End of chain, no handler for 30\n"
     ]
    }
   ],
   "source": [
    "c.delegate(requests)"
   ]
  }
 ],
 "metadata": {
  "kernelspec": {
   "display_name": "Python 3 (ipykernel)",
   "language": "python",
   "name": "python3"
  },
  "language_info": {
   "codemirror_mode": {
    "name": "ipython",
    "version": 3
   },
   "file_extension": ".py",
   "mimetype": "text/x-python",
   "name": "python",
   "nbconvert_exporter": "python",
   "pygments_lexer": "ipython3",
   "version": "3.8.10"
  }
 },
 "nbformat": 4,
 "nbformat_minor": 5
}
