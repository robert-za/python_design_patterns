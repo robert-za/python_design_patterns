{
 "cells": [
  {
   "cell_type": "markdown",
   "id": "2f8de1f8",
   "metadata": {},
   "source": [
    "# I. Creational Patterns"
   ]
  },
  {
   "cell_type": "markdown",
   "id": "e81a6e30",
   "metadata": {},
   "source": [
    "## 1. Factory"
   ]
  },
  {
   "cell_type": "code",
   "execution_count": 4,
   "id": "df0c8fd1",
   "metadata": {},
   "outputs": [],
   "source": [
    "class Dog:\n",
    "    \"\"\"A simple dog class.\"\"\"\n",
    "\n",
    "    def __init__(self, name):\n",
    "        self._name = name\n",
    "\n",
    "    def speak(self):\n",
    "        return \"Woof!\""
   ]
  },
  {
   "cell_type": "code",
   "execution_count": 5,
   "id": "6c905320",
   "metadata": {},
   "outputs": [],
   "source": [
    "class Cat:\n",
    "    \"\"\"A simple cat class.\"\"\"\n",
    "\n",
    "    def __init__(self, name):\n",
    "        self._name = name\n",
    "\n",
    "    def speak(self):\n",
    "        return \"Meow!\""
   ]
  },
  {
   "cell_type": "code",
   "execution_count": 6,
   "id": "3e7b859d",
   "metadata": {},
   "outputs": [],
   "source": [
    "def get_pet(pet=\"Dog\"):\n",
    "    \"\"\"The Factory Method.\"\"\"\n",
    "    pets = dict(dog=Dog(\"Chili\"), cat=Cat(\"Peppers\"))\n",
    "    return pets[pet]"
   ]
  },
  {
   "cell_type": "markdown",
   "id": "15b22369",
   "metadata": {},
   "source": [
    "### Example:"
   ]
  },
  {
   "cell_type": "code",
   "execution_count": 14,
   "id": "33441741",
   "metadata": {},
   "outputs": [],
   "source": [
    "d = get_pet(\"dog\").speak()"
   ]
  },
  {
   "cell_type": "code",
   "execution_count": 21,
   "id": "c5265bfe",
   "metadata": {},
   "outputs": [
    {
     "data": {
      "text/plain": [
       "'Woof!'"
      ]
     },
     "execution_count": 21,
     "metadata": {},
     "output_type": "execute_result"
    }
   ],
   "source": [
    "d"
   ]
  },
  {
   "cell_type": "code",
   "execution_count": 16,
   "id": "44631d18",
   "metadata": {},
   "outputs": [],
   "source": [
    "c = get_pet(\"cat\").speak()"
   ]
  },
  {
   "cell_type": "code",
   "execution_count": 17,
   "id": "0ac96c2b",
   "metadata": {},
   "outputs": [
    {
     "data": {
      "text/plain": [
       "'Meow!'"
      ]
     },
     "execution_count": 17,
     "metadata": {},
     "output_type": "execute_result"
    }
   ],
   "source": [
    "c"
   ]
  },
  {
   "cell_type": "markdown",
   "id": "4471d8b4",
   "metadata": {},
   "source": [
    "## 2. Abstact Factory"
   ]
  },
  {
   "cell_type": "code",
   "execution_count": 43,
   "id": "a1d9dca6",
   "metadata": {},
   "outputs": [],
   "source": [
    "class Dog:\n",
    "    \"\"\"One of the objects to be returned.\"\"\"\n",
    "\n",
    "    def speak(self):\n",
    "        return \"Woof!\"\n",
    "\n",
    "    def __str__(self):\n",
    "        return \"Dog\"\n",
    "\n",
    "\n",
    "class DogFactory:\n",
    "    \"\"\"Concrete Factory\"\"\"\n",
    "\n",
    "    def get_pet(self):\n",
    "        \"\"\"Returns a Dog object.\"\"\"\n",
    "        return Dog()\n",
    "\n",
    "    def get_food(self):\n",
    "        \"\"\"Returns a DogFood object.\"\"\"\n",
    "        return \"DogFood\"\n",
    "\n",
    "    \n",
    "class PetStore:\n",
    "    \"\"\"PetStore houses our Abstract Factory.\"\"\"\n",
    "\n",
    "    def __init__(self, pet_factory=None):\n",
    "        \"\"\"pet_factory is our Abstract Factory.\"\"\"\n",
    "        self._pet_factory = pet_factory\n",
    "\n",
    "    def show_pet(self):\n",
    "        \"\"\"Utility method to display the details of the objects returned.\"\"\"\n",
    "        pet = self._pet_factory.get_pet()\n",
    "        pet_food = self._pet_factory.get_food()\n",
    "\n",
    "        print(f\"Our pet is {pet}!\")\n",
    "        print(f\"Our pet says hello by {pet.speak()}\")\n",
    "        print(f\"Its food is {pet_food}!\")"
   ]
  },
  {
   "cell_type": "markdown",
   "id": "c2c2040f",
   "metadata": {},
   "source": [
    "### Example:"
   ]
  },
  {
   "cell_type": "markdown",
   "id": "5727baa9",
   "metadata": {},
   "source": [
    "####    Create a Concrete Factory"
   ]
  },
  {
   "cell_type": "code",
   "execution_count": 44,
   "id": "77ffc31c",
   "metadata": {},
   "outputs": [],
   "source": [
    "factory = DogFactory()"
   ]
  },
  {
   "cell_type": "markdown",
   "id": "9bdf774c",
   "metadata": {},
   "source": [
    "#### Create a pet store housing our Abstract Factory"
   ]
  },
  {
   "cell_type": "code",
   "execution_count": 45,
   "id": "3c77a3ec",
   "metadata": {},
   "outputs": [],
   "source": [
    "shop = PetStore(factory)"
   ]
  },
  {
   "cell_type": "markdown",
   "id": "ad6ebc98",
   "metadata": {},
   "source": [
    "#### Invoke the utility method to show the details of our pet"
   ]
  },
  {
   "cell_type": "code",
   "execution_count": 46,
   "id": "bd1414cc",
   "metadata": {},
   "outputs": [
    {
     "name": "stdout",
     "output_type": "stream",
     "text": [
      "Our pet is Dog!\n",
      "Our pet says hello by Woof!\n",
      "Its food is DogFood!\n"
     ]
    }
   ],
   "source": [
    "shop.show_pet()"
   ]
  },
  {
   "cell_type": "code",
   "execution_count": 50,
   "id": "a442f34d",
   "metadata": {},
   "outputs": [
    {
     "name": "stdout",
     "output_type": "stream",
     "text": [
      "Our pet is Cat!\n",
      "Our pet says hello by Meow!\n",
      "Its food is CatFood!\n"
     ]
    }
   ],
   "source": [
    "# Now having the Abstract Factory, we can use it to produce Cats and CatFood\n",
    "class Cat:\n",
    "    \"\"\"One of the objects to be returned.\"\"\"\n",
    "\n",
    "    def speak(self):\n",
    "        return \"Meow!\"\n",
    "\n",
    "    def __str__(self):\n",
    "        return \"Cat\"\n",
    "\n",
    "\n",
    "class CatFactory:\n",
    "    \"\"\"Concrete Factory\"\"\"\n",
    "\n",
    "    def get_pet(self):\n",
    "        \"\"\"Returns a Cat object.\"\"\"\n",
    "        return Cat()\n",
    "\n",
    "    def get_food(self):\n",
    "        \"\"\"Returns a CatFood object.\"\"\"\n",
    "        return \"CatFood\"\n",
    "\n",
    "\n",
    "cat_factory = CatFactory()\n",
    "cat_shop = PetStore(cat_factory)\n",
    "cat_shop.show_pet()"
   ]
  },
  {
   "cell_type": "markdown",
   "id": "337b78c8",
   "metadata": {},
   "source": [
    "## 3. Singleton"
   ]
  },
  {
   "cell_type": "code",
   "execution_count": 1,
   "id": "9c95cab2",
   "metadata": {},
   "outputs": [],
   "source": [
    "class Borg:\n",
    "    \"\"\"The Borg design pattern.\"\"\"\n",
    "\n",
    "    _shared_data = {}  # Attribute dict\n",
    "\n",
    "    def __init__(self):\n",
    "        self.__dict__ = self._shared_data  # Make an attribute dict\n",
    "\n",
    "class Singleton(Borg):\n",
    "    \"\"\"The singleton class\"\"\"\n",
    "\n",
    "    def __init__(self, **kwargs):\n",
    "        Borg.__init__(self)\n",
    "        self._shared_data.update(kwargs)  # Update the attr dict by inserting a new k-v pair\n",
    "\n",
    "    def __str__(self):\n",
    "        return str(self._shared_data)  # Returns attr dict for printing"
   ]
  },
  {
   "cell_type": "markdown",
   "id": "6276a520",
   "metadata": {},
   "source": [
    "### Example:"
   ]
  },
  {
   "cell_type": "markdown",
   "id": "f52bd282",
   "metadata": {},
   "source": [
    "#### Let's create a singleton object and add our first acronym"
   ]
  },
  {
   "cell_type": "code",
   "execution_count": 2,
   "id": "7cce2e33",
   "metadata": {},
   "outputs": [],
   "source": [
    "x = Singleton(HTTP = \"Hyper Text Transfer Protocol\")"
   ]
  },
  {
   "cell_type": "markdown",
   "id": "a749a0b5",
   "metadata": {},
   "source": [
    "#### Print the object"
   ]
  },
  {
   "cell_type": "code",
   "execution_count": 3,
   "id": "0f3ae68e",
   "metadata": {},
   "outputs": [
    {
     "name": "stdout",
     "output_type": "stream",
     "text": [
      "{'HTTP': 'Hyper Text Transfer Protocol'}\n"
     ]
    }
   ],
   "source": [
    "print(x)"
   ]
  },
  {
   "cell_type": "markdown",
   "id": "00712156",
   "metadata": {},
   "source": [
    "###### *This gets updated while rerunning the ^cell^, meaning singleton obj will be the same across the board"
   ]
  },
  {
   "cell_type": "markdown",
   "id": "a95b7ff4",
   "metadata": {},
   "source": [
    "#### Let's create another singleton object and if it refers to the same attribute dict by adding another acronym"
   ]
  },
  {
   "cell_type": "code",
   "execution_count": 4,
   "id": "f11b4475",
   "metadata": {},
   "outputs": [],
   "source": [
    "y = Singleton(WWW = \"World Wide Web\")"
   ]
  },
  {
   "cell_type": "markdown",
   "id": "ea3ea8c3",
   "metadata": {},
   "source": [
    "#### Print the object"
   ]
  },
  {
   "cell_type": "code",
   "execution_count": 5,
   "id": "f42e1ff7",
   "metadata": {},
   "outputs": [
    {
     "name": "stdout",
     "output_type": "stream",
     "text": [
      "{'HTTP': 'Hyper Text Transfer Protocol', 'WWW': 'World Wide Web'}\n"
     ]
    }
   ],
   "source": [
    "print(y)"
   ]
  },
  {
   "cell_type": "code",
   "execution_count": 6,
   "id": "e1606dcc",
   "metadata": {},
   "outputs": [
    {
     "data": {
      "text/plain": [
       "False"
      ]
     },
     "execution_count": 6,
     "metadata": {},
     "output_type": "execute_result"
    }
   ],
   "source": [
    "x == y"
   ]
  },
  {
   "cell_type": "markdown",
   "id": "54bf49d4",
   "metadata": {},
   "source": [
    "## 4. Builder"
   ]
  },
  {
   "cell_type": "code",
   "execution_count": 23,
   "id": "d7907921",
   "metadata": {},
   "outputs": [],
   "source": [
    "class Director():\n",
    "    def __init__(self, builder):\n",
    "        self._builder = builder\n",
    "\n",
    "    def construct_car(self):\n",
    "        self._builder.create_new_car()\n",
    "        self._builder.add_model()\n",
    "        self._builder.add_tires()\n",
    "        self._builder.add_engine()\n",
    "    \n",
    "    def get_car(self):\n",
    "        return self._builder.car\n",
    "\n",
    "\n",
    "class Builder():\n",
    "    \"\"\"Abstract Builder\"\"\"\n",
    "    def __init__(self):\n",
    "        self.car = None\n",
    "\n",
    "    def create_new_car(self):\n",
    "        self.car = Car()\n",
    "\n",
    "\n",
    "class AlfaRomeoMiToBuilder(Builder):\n",
    "    \"\"\"Concrete Builder --> provides parts and tools to work on the parent\"\"\"\n",
    "\n",
    "    def add_model(self):\n",
    "        self.car.model = \"Alfa Romeo MiTo\"\n",
    "\n",
    "    def add_tires(self):\n",
    "        self.car.tires = \"Continental\"\n",
    "\n",
    "    def add_engine(self):\n",
    "        self.car.engine = \"Turbo engine\"\n",
    "\n",
    "\n",
    "class MercedesBuilder(Builder):\n",
    "    \"\"\"Just add new class to create new car model\"\"\"\n",
    "\n",
    "    def add_model(self):\n",
    "        self.car.model = \"Mercedes-Benz\"\n",
    "\n",
    "    def add_tires(self):\n",
    "        self.car.tires = \"Goodyear\"\n",
    "\n",
    "    def add_engine(self):\n",
    "        self.car.engine = \"Diesel Engine\"\n",
    "\n",
    "        \n",
    "class Car():\n",
    "    \"\"\"Product\"\"\"\n",
    "    def __init__(self):\n",
    "        self.model = None\n",
    "        self.tires = None\n",
    "        self.engine = None\n",
    "\n",
    "    def __str__(self):\n",
    "        return f\"{self.model} | {self.tires} | {self.engine}\""
   ]
  },
  {
   "cell_type": "markdown",
   "id": "66a074aa",
   "metadata": {},
   "source": [
    "### Example:"
   ]
  },
  {
   "cell_type": "code",
   "execution_count": 24,
   "id": "0f20ea4a",
   "metadata": {},
   "outputs": [],
   "source": [
    "builder = AlfaRomeoMiToBuilder()\n",
    "director = Director(builder)\n",
    "director.construct_car()\n",
    "car = director.get_car()"
   ]
  },
  {
   "cell_type": "code",
   "execution_count": 25,
   "id": "207aa881",
   "metadata": {},
   "outputs": [
    {
     "name": "stdout",
     "output_type": "stream",
     "text": [
      "Alfa Romeo MiTo | Continental | Turbo engine\n"
     ]
    }
   ],
   "source": [
    "print(car)"
   ]
  },
  {
   "cell_type": "code",
   "execution_count": 27,
   "id": "4e959c45",
   "metadata": {},
   "outputs": [],
   "source": [
    "mercedes_builder = MercedesBuilder()\n",
    "mercedes_director = Director(mercedes_builder)\n",
    "mercedes_director.construct_car()\n",
    "mercedes_car = mercedes_director.get_car()"
   ]
  },
  {
   "cell_type": "code",
   "execution_count": 28,
   "id": "338b29e9",
   "metadata": {},
   "outputs": [
    {
     "name": "stdout",
     "output_type": "stream",
     "text": [
      "Mercedes-Benz | Goodyear | Diesel Engine\n"
     ]
    }
   ],
   "source": [
    "print(mercedes_car)"
   ]
  },
  {
   "cell_type": "markdown",
   "id": "f63c748a",
   "metadata": {},
   "source": [
    "# 5. Prototype"
   ]
  },
  {
   "cell_type": "code",
   "execution_count": 30,
   "id": "93e2cc65",
   "metadata": {},
   "outputs": [],
   "source": [
    "import copy"
   ]
  },
  {
   "cell_type": "code",
   "execution_count": 39,
   "id": "9d6e073f",
   "metadata": {},
   "outputs": [],
   "source": [
    "class Prototype:\n",
    "    def __init__(self):\n",
    "        self._objects = {}\n",
    "\n",
    "    def register_object(self, name, obj):\n",
    "        \"\"\"Register an object.\"\"\"\n",
    "        self._objects[name] = obj\n",
    "\n",
    "    def unregister_object(self, name):\n",
    "        \"\"\"Unregister an object\"\"\"\n",
    "        del self._objects[name]\n",
    "        \n",
    "    def clone(self, name, **attr):\n",
    "        \"\"\"Clone a registered object and update its attributes\"\"\"\n",
    "        obj = copy.deepcopy(self._objects.get(name))\n",
    "        obj.__dict__.update(attr)\n",
    "        return obj"
   ]
  },
  {
   "cell_type": "markdown",
   "id": "3639839e",
   "metadata": {},
   "source": [
    "### Example:"
   ]
  },
  {
   "cell_type": "code",
   "execution_count": 40,
   "id": "55e8262f",
   "metadata": {},
   "outputs": [],
   "source": [
    "class Car:\n",
    "    def __init__(self):\n",
    "        self.name = \"Alfa Romeo MiTo\"\n",
    "        self.color = \"Black\"\n",
    "        self.options = \"Quadrifoglio\"\n",
    "\n",
    "    def __str__(self):\n",
    "        return f\"{self.name} | {self.color} | {self.options}\""
   ]
  },
  {
   "cell_type": "code",
   "execution_count": 41,
   "id": "66dd4b6f",
   "metadata": {},
   "outputs": [],
   "source": [
    "car_mito = Car()\n",
    "prototype = Prototype()\n",
    "prototype.register_object(\"alfa romeo mito\", car_mito)"
   ]
  },
  {
   "cell_type": "code",
   "execution_count": 42,
   "id": "2f469b54",
   "metadata": {},
   "outputs": [],
   "source": [
    "second_car_mito = prototype.clone(\"alfa romeo mito\")"
   ]
  },
  {
   "cell_type": "code",
   "execution_count": 44,
   "id": "60cfacc7",
   "metadata": {},
   "outputs": [
    {
     "name": "stdout",
     "output_type": "stream",
     "text": [
      "Alfa Romeo MiTo | Black | Quadrifoglio\n"
     ]
    }
   ],
   "source": [
    "print(second_car_mito)"
   ]
  },
  {
   "cell_type": "markdown",
   "id": "21f3b67c",
   "metadata": {},
   "source": [
    "# II. Structural Patterns"
   ]
  },
  {
   "cell_type": "markdown",
   "id": "377faf17",
   "metadata": {},
   "source": [
    "## 1. Decorator"
   ]
  },
  {
   "cell_type": "code",
   "execution_count": 45,
   "id": "1c0f7420",
   "metadata": {},
   "outputs": [],
   "source": [
    "from functools import wraps"
   ]
  },
  {
   "cell_type": "code",
   "execution_count": 48,
   "id": "6f5cc5ee",
   "metadata": {},
   "outputs": [],
   "source": [
    "def make_blink(function):\n",
    "    \"\"\"Defines the decorator\"\"\"\n",
    "\n",
    "    # This makes the decorator transparent in terms of its name and docs\n",
    "    @wraps(function)\n",
    "\n",
    "    # Define the inner function\n",
    "    def decorator():\n",
    "        # Grab the return value of the function being decorated\n",
    "        ret = function()\n",
    "        \n",
    "        # Add new functionality to the function being decorated\n",
    "        return f\"<blink> {ret} </blink>\"\n",
    "        \n",
    "    return decorator"
   ]
  },
  {
   "cell_type": "code",
   "execution_count": 58,
   "id": "018fa9e2",
   "metadata": {},
   "outputs": [],
   "source": [
    "def hello_world():\n",
    "    \"Original function\"\n",
    "    return \"Hello, World!\""
   ]
  },
  {
   "cell_type": "markdown",
   "id": "d3d9a9e4",
   "metadata": {},
   "source": [
    "### Example:"
   ]
  },
  {
   "cell_type": "code",
   "execution_count": 59,
   "id": "0865e69c",
   "metadata": {},
   "outputs": [
    {
     "data": {
      "text/plain": [
       "'Hello, World!'"
      ]
     },
     "execution_count": 59,
     "metadata": {},
     "output_type": "execute_result"
    }
   ],
   "source": [
    "hello_world()"
   ]
  },
  {
   "cell_type": "code",
   "execution_count": 63,
   "id": "1d4a9131",
   "metadata": {},
   "outputs": [],
   "source": [
    "@make_blink\n",
    "def hello_world():\n",
    "    return \"Hello, World!\""
   ]
  },
  {
   "cell_type": "code",
   "execution_count": 64,
   "id": "32d2dbb8",
   "metadata": {},
   "outputs": [
    {
     "data": {
      "text/plain": [
       "'<blink> Hello, World! </blink>'"
      ]
     },
     "execution_count": 64,
     "metadata": {},
     "output_type": "execute_result"
    }
   ],
   "source": [
    "hello_world()"
   ]
  },
  {
   "cell_type": "markdown",
   "id": "04a3ec1a",
   "metadata": {},
   "source": [
    "## 2. Proxy"
   ]
  },
  {
   "cell_type": "code",
   "execution_count": 67,
   "id": "42392c90",
   "metadata": {},
   "outputs": [],
   "source": [
    "import time"
   ]
  },
  {
   "cell_type": "code",
   "execution_count": 77,
   "id": "bddec61a",
   "metadata": {},
   "outputs": [],
   "source": [
    "class Producer:\n",
    "    \"\"\"Define the 'resource-intensive' object to instantiate!\"\"\"\n",
    "    def produce(self):\n",
    "        print(\"Producer is working hard!\")\n",
    "\n",
    "    def meet(self):\n",
    "        print(\"Producer has time to meet you now!\")\n",
    "\n",
    "class Proxy:\n",
    "    \"\"\"\"Define the 'relatively less resource-intensive' proxy to instantiate as a middleman\"\"\"\n",
    "    def __init__(self):  \n",
    "        self.occupied = 'No'\n",
    "        self.producer = None\n",
    "\n",
    "    def produce(self):\n",
    "        \"\"\"Check if Producer is available\"\"\"\n",
    "        print(\"Artist checking if Producer is available ...\")\n",
    "\n",
    "        if self.occupied == 'No':\n",
    "            #If the producer is available, create a producer object!\n",
    "            self.producer = Producer()\n",
    "\n",
    "            #Make the prodcuer meet the guest!\n",
    "            self.producer.meet()\n",
    "\n",
    "        else:\n",
    "            #Otherwise, don't instantiate a producer \n",
    "            print(\"Producer is busy!\")"
   ]
  },
  {
   "cell_type": "markdown",
   "id": "4476fe6b",
   "metadata": {},
   "source": [
    "### Example:"
   ]
  },
  {
   "cell_type": "markdown",
   "id": "c5b2b205",
   "metadata": {},
   "source": [
    "#### Instantiate a Proxy"
   ]
  },
  {
   "cell_type": "code",
   "execution_count": 78,
   "id": "0c0b23cc",
   "metadata": {},
   "outputs": [],
   "source": [
    "p = Proxy()"
   ]
  },
  {
   "cell_type": "markdown",
   "id": "b56102c8",
   "metadata": {},
   "source": [
    "#### Make the proxy: Artist produce until Producer is available"
   ]
  },
  {
   "cell_type": "code",
   "execution_count": 79,
   "id": "33d0f705",
   "metadata": {},
   "outputs": [
    {
     "name": "stdout",
     "output_type": "stream",
     "text": [
      "Artist checking if Producer is available ...\n",
      "Producer has time to meet you now!\n"
     ]
    }
   ],
   "source": [
    "p.produce()"
   ]
  },
  {
   "cell_type": "markdown",
   "id": "991dfa0d",
   "metadata": {},
   "source": [
    "##### Change the state to 'occupied'"
   ]
  },
  {
   "cell_type": "code",
   "execution_count": 80,
   "id": "fa6f218c",
   "metadata": {},
   "outputs": [],
   "source": [
    "p.occupied = 'Yes'"
   ]
  },
  {
   "cell_type": "markdown",
   "id": "f077f7ee",
   "metadata": {},
   "source": [
    "#### Make the Producer produce"
   ]
  },
  {
   "cell_type": "code",
   "execution_count": 76,
   "id": "d70606b0",
   "metadata": {},
   "outputs": [
    {
     "name": "stdout",
     "output_type": "stream",
     "text": [
      "Artist checking if Producer is available ...\n",
      "Producer is busy!\n"
     ]
    }
   ],
   "source": [
    "p.produce()"
   ]
  },
  {
   "cell_type": "markdown",
   "id": "e5091481",
   "metadata": {},
   "source": [
    "## 3. Adapter"
   ]
  },
  {
   "cell_type": "code",
   "execution_count": 81,
   "id": "65fd8bb3",
   "metadata": {},
   "outputs": [],
   "source": [
    "class Korean:\n",
    "    \"\"\"Korean speaker\"\"\"\n",
    "    def __init__(self):\n",
    "        self.name = \"Korean\"\n",
    "\n",
    "    def speak_korean(self):\n",
    "        return \"An-neyong?\"\n",
    "\n",
    "class British:\n",
    "    \"\"\"English speaker\"\"\"\n",
    "    def __init__(self):\n",
    "        self.name = \"British\"\t\n",
    "\n",
    "    #Note the different method name here!\n",
    "    def speak_english(self):\n",
    "        return \"Hello!\"\t\n",
    "\n",
    "class Adapter:\n",
    "    \"\"\"This changes the generic method name to individualized method names\"\"\"\n",
    "\n",
    "    def __init__(self, object, **adapted_method):\n",
    "        \"\"\"Change the name of the method\"\"\"\n",
    "        self._object = object\n",
    "\n",
    "        #Add a new dictionary item that establishes the mapping between the generic method name: speak() and the concrete method\n",
    "        #For example, speak() will be translated to speak_korean() if the mapping says so\n",
    "        self.__dict__.update(adapted_method)\n",
    "\n",
    "    def __getattr__(self, attr):\n",
    "        \"\"\"Simply return the rest of attributes!\"\"\"\n",
    "        return getattr(self._object, attr)"
   ]
  },
  {
   "cell_type": "markdown",
   "id": "09e65e64",
   "metadata": {},
   "source": [
    "### Example:"
   ]
  },
  {
   "cell_type": "markdown",
   "id": "15c3e114",
   "metadata": {},
   "source": [
    "#### List to store speaker objects"
   ]
  },
  {
   "cell_type": "code",
   "execution_count": 100,
   "id": "db80212a",
   "metadata": {},
   "outputs": [],
   "source": [
    "objects = []"
   ]
  },
  {
   "cell_type": "markdown",
   "id": "49e44568",
   "metadata": {},
   "source": [
    "#### Create a Korean object"
   ]
  },
  {
   "cell_type": "code",
   "execution_count": 101,
   "id": "234ae340",
   "metadata": {},
   "outputs": [],
   "source": [
    "korean = Korean()"
   ]
  },
  {
   "cell_type": "markdown",
   "id": "8aa35276",
   "metadata": {},
   "source": [
    "#### Create a British object"
   ]
  },
  {
   "cell_type": "code",
   "execution_count": 102,
   "id": "205f5d70",
   "metadata": {},
   "outputs": [],
   "source": [
    "british = British()"
   ]
  },
  {
   "cell_type": "markdown",
   "id": "cee175ab",
   "metadata": {},
   "source": [
    "#### Append the objects to the objects list"
   ]
  },
  {
   "cell_type": "code",
   "execution_count": 103,
   "id": "56da8bc0",
   "metadata": {},
   "outputs": [],
   "source": [
    "objects.append(Adapter(korean, speak=korean.speak_korean))\n",
    "objects.append(Adapter(british, speak=british.speak_english))"
   ]
  },
  {
   "cell_type": "code",
   "execution_count": 104,
   "id": "7d244da2",
   "metadata": {},
   "outputs": [
    {
     "name": "stdout",
     "output_type": "stream",
     "text": [
      "Korean says 'An-neyong?'\n",
      "\n",
      "British says 'Hello!'\n",
      "\n"
     ]
    }
   ],
   "source": [
    "for obj in objects:\n",
    "    print(f\"{obj.name} says '{obj.speak()}'\\n\")"
   ]
  },
  {
   "cell_type": "markdown",
   "id": "a762e5a5",
   "metadata": {},
   "source": [
    "## 4. Composite"
   ]
  },
  {
   "cell_type": "code",
   "execution_count": null,
   "id": "19e89b98",
   "metadata": {},
   "outputs": [],
   "source": []
  }
 ],
 "metadata": {
  "kernelspec": {
   "display_name": "Python 3 (ipykernel)",
   "language": "python",
   "name": "python3"
  },
  "language_info": {
   "codemirror_mode": {
    "name": "ipython",
    "version": 3
   },
   "file_extension": ".py",
   "mimetype": "text/x-python",
   "name": "python",
   "nbconvert_exporter": "python",
   "pygments_lexer": "ipython3",
   "version": "3.8.10"
  }
 },
 "nbformat": 4,
 "nbformat_minor": 5
}
